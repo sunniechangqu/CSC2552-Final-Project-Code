{
  "nbformat": 4,
  "nbformat_minor": 0,
  "metadata": {
    "colab": {
      "provenance": []
    },
    "kernelspec": {
      "name": "python3",
      "display_name": "Python 3"
    },
    "language_info": {
      "name": "python"
    }
  },
  "cells": [
    {
      "cell_type": "markdown",
      "source": [
        "# Data Cleaning and Processing\n",
        "\n",
        "## Import Survey Answers Excel File"
      ],
      "metadata": {
        "id": "dbaByClXS2qo"
      }
    },
    {
      "cell_type": "code",
      "execution_count": null,
      "metadata": {
        "id": "XTDuDka8StSK"
      },
      "outputs": [],
      "source": [
        "import pandas as pd\n",
        "import numpy as np"
      ]
    },
    {
      "cell_type": "code",
      "source": [
        "# Import local excel file after initial manual cleaning\n",
        "# Refer to external resource found at here: https://neptune.ai/blog/google-colab-dealing-with-files\n",
        "df = pd.read_excel('survey_excel_hand_clean_V2.xlsx')\n",
        "df"
      ],
      "metadata": {
        "id": "MDHWtXUQTBo1"
      },
      "execution_count": null,
      "outputs": []
    },
    {
      "cell_type": "code",
      "source": [
        "# Show all column names of the uncleaned dataframe\n",
        "# Refer to external resource found at here: https://stackoverflow.com/questions/49188960/how-to-show-all-columns-names-on-a-large-pandas-dataframe\n",
        "df.columns"
      ],
      "metadata": {
        "colab": {
          "base_uri": "https://localhost:8080/"
        },
        "id": "M937s7GJTBrA",
        "outputId": "edb3a9ac-3fe6-4e3b-85f4-7cc61719ee4a"
      },
      "execution_count": null,
      "outputs": [
        {
          "output_type": "execute_result",
          "data": {
            "text/plain": [
              "Index(['IP_ Address', 'Duration', 'Finished', 'Response_ID',\n",
              "       'Location_Latitude', 'Location_Longitude', 'User Language',\n",
              "       'Colours_Painting1', 'Colours_Painting2', 'Colours_Painting3',\n",
              "       'Colours_Painting4', 'Colours_Painting5', 'Colours_Painting6',\n",
              "       'Colours_Painting7', 'Colours_Painting8', 'Colours_Painting9',\n",
              "       'Colours_Painting10', 'Brushstrokes_Painting1',\n",
              "       'Brushstrokes_Painting2', 'Brushstrokes_Painting3',\n",
              "       'Brushstrokes_Painting4', 'Brushstrokes_Painting5',\n",
              "       'Brushstrokes_Painting6', 'Brushstrokes_Painting7',\n",
              "       'Brushstrokes_Painting8', 'Brushstrokes_Painting9',\n",
              "       'Brushstrokes_Painting10', 'Structures_Painting1',\n",
              "       'Structures_Painting2', 'Structures_Painting3', 'Structures_Painting4',\n",
              "       'Structures_Painting5', 'Structures_Painting6', 'Structures_Painting7',\n",
              "       'Structures_Painting8', 'Structures_Painting9', 'Structures_Painting10',\n",
              "       'Details_Painting1', 'Details_Painting2', 'Details_Painting3',\n",
              "       'Details_Painting4', 'Details_Painting5', 'Details_Painting6',\n",
              "       'Details_Painting7', 'Details_Painting8', 'Details_Painting9',\n",
              "       'Details_Painting10', 'Identification_Painting1_Control',\n",
              "       'Identification_Painting2_Control', 'Identification_Painting3_Control',\n",
              "       'Identification_Painting4_Control', 'Identification_Painting5_Control',\n",
              "       'Identification_Painting6_Control', 'Identification_Painting7_Control',\n",
              "       'Identification_Painting8_Control', 'Identification_Painting9_Control',\n",
              "       'Identification_Painting10_Control',\n",
              "       'Identification_Painting1_Treatment1',\n",
              "       'Identification_Painting2_Treatment1',\n",
              "       'Identification_Painting3_Treatment1',\n",
              "       'Identification_Painting4_Treatment1',\n",
              "       'Identification_Painting5_Treatment1',\n",
              "       'Identification_Painting6_Treatment1',\n",
              "       'Identification_Painting7_Treatment1',\n",
              "       'Identification_Painting8_Treatment1',\n",
              "       'Identification_Painting9_Treatment1',\n",
              "       'Identification_Painting10_Treatment1',\n",
              "       'Identification_Painting1_Treatment2',\n",
              "       'Identification_Painting2_Treatment2',\n",
              "       'Identification_Painting3_Treatment2',\n",
              "       'Identification_Painting4_Treatment2',\n",
              "       'Identification_Painting5_Treatment2',\n",
              "       'Identification_Painting6_Treatment2',\n",
              "       'Identification_Painting7_Treatment2',\n",
              "       'Identification_Painting8_Treatment2',\n",
              "       'Identification_Painting9_Treatment2',\n",
              "       'Identification_Painting10_Treatment2', 'Identification_Colours',\n",
              "       'Identification_Brushstrokes', 'Identification_Structures',\n",
              "       'Identification_Details', 'Monthly_Art_Events',\n",
              "       'Monthly_Hours_Digital_Arts', 'Artistic_Specialty_Self_Rating',\n",
              "       'Prolific_ID', 'Condition'],\n",
              "      dtype='object')"
            ]
          },
          "metadata": {},
          "execution_count": 6
        }
      ]
    },
    {
      "cell_type": "markdown",
      "source": [
        "## Data Cleaning"
      ],
      "metadata": {
        "id": "d8rRF544TluE"
      }
    },
    {
      "cell_type": "code",
      "source": [
        "# Replace all NaN fields of the dataframe with empty strings\n",
        "# Refer to external resource found at here: https://sparkbyexamples.com/pandas/pandas-replace-nan-with-blank-empty-string/\n",
        "df = df.replace(np.nan, '', regex=True)"
      ],
      "metadata": {
        "id": "EpgrU3s7TBtA"
      },
      "execution_count": null,
      "outputs": []
    },
    {
      "cell_type": "code",
      "source": [
        "# Combine the three groups of painting identification columns from\n",
        "# Different control/treatment groups into one column\n",
        "# Refer to external resource found at here: https://saturncloud.io/blog/how-to-combine-two-columns-in-a-pandas-dataframe/\n",
        "df['Identification_Painting1_Combined'] = df['Identification_Painting1_Control'].astype(str) + df['Identification_Painting1_Treatment1'] + df['Identification_Painting1_Treatment2']\n",
        "df['Identification_Painting2_Combined'] = df['Identification_Painting2_Control'].astype(str) + df['Identification_Painting2_Treatment1'] + df['Identification_Painting2_Treatment2']\n",
        "df['Identification_Painting3_Combined'] = df['Identification_Painting3_Control'].astype(str) + df['Identification_Painting3_Treatment1'] + df['Identification_Painting3_Treatment2']\n",
        "df['Identification_Painting4_Combined'] = df['Identification_Painting4_Control'].astype(str) + df['Identification_Painting4_Treatment1'] + df['Identification_Painting4_Treatment2']\n",
        "df['Identification_Painting5_Combined'] = df['Identification_Painting5_Control'].astype(str) + df['Identification_Painting5_Treatment1'] + df['Identification_Painting5_Treatment2']\n",
        "df['Identification_Painting6_Combined'] = df['Identification_Painting6_Control'].astype(str) + df['Identification_Painting6_Treatment1'] + df['Identification_Painting6_Treatment2']\n",
        "df['Identification_Painting7_Combined'] = df['Identification_Painting7_Control'].astype(str) + df['Identification_Painting7_Treatment1'] + df['Identification_Painting7_Treatment2']\n",
        "df['Identification_Painting8_Combined'] = df['Identification_Painting8_Control'].astype(str) + df['Identification_Painting8_Treatment1'] + df['Identification_Painting8_Treatment2']\n",
        "df['Identification_Painting9_Combined'] = df['Identification_Painting9_Control'].astype(str) + df['Identification_Painting9_Treatment1'] + df['Identification_Painting9_Treatment2']\n",
        "df['Identification_Painting10_Combined'] = df['Identification_Painting10_Control'].astype(str) + df['Identification_Painting10_Treatment1'] + df['Identification_Painting10_Treatment2']"
      ],
      "metadata": {
        "id": "AEqFjemMTsW0"
      },
      "execution_count": null,
      "outputs": []
    },
    {
      "cell_type": "code",
      "source": [
        "# Drop the uncombined columns and columns that are\n",
        "# Redundant to analysis\n",
        "# Refer to external resource found at here: https://pandas.pydata.org/docs/reference/api/pandas.DataFrame.drop.html\n",
        "df_cleaned = df.drop(columns = ['Identification_Painting1_Control',\n",
        "                   'Identification_Painting2_Control',\n",
        "                   'Identification_Painting3_Control',\n",
        "                   'Identification_Painting4_Control',\n",
        "                   'Identification_Painting5_Control',\n",
        "                   'Identification_Painting6_Control',\n",
        "                   'Identification_Painting7_Control',\n",
        "                   'Identification_Painting8_Control',\n",
        "                   'Identification_Painting9_Control',\n",
        "                   'Identification_Painting10_Control',\n",
        "                   'Identification_Painting1_Treatment1',\n",
        "                   'Identification_Painting2_Treatment1',\n",
        "                   'Identification_Painting3_Treatment1',\n",
        "                   'Identification_Painting4_Treatment1',\n",
        "                   'Identification_Painting5_Treatment1',\n",
        "                   'Identification_Painting6_Treatment1',\n",
        "                   'Identification_Painting7_Treatment1',\n",
        "                   'Identification_Painting8_Treatment1',\n",
        "                   'Identification_Painting9_Treatment1',\n",
        "                   'Identification_Painting10_Treatment1',\n",
        "                   'Identification_Painting1_Treatment2',\n",
        "                   'Identification_Painting2_Treatment2',\n",
        "                   'Identification_Painting3_Treatment2',\n",
        "                   'Identification_Painting4_Treatment2',\n",
        "                   'Identification_Painting5_Treatment2',\n",
        "                   'Identification_Painting6_Treatment2',\n",
        "                   'Identification_Painting7_Treatment2',\n",
        "                   'Identification_Painting8_Treatment2',\n",
        "                   'Identification_Painting9_Treatment2',\n",
        "                   'Identification_Painting10_Treatment2', 'User Language'])"
      ],
      "metadata": {
        "id": "RYsjuyvYUDLQ"
      },
      "execution_count": null,
      "outputs": []
    },
    {
      "cell_type": "code",
      "source": [
        "df_cleaned.columns"
      ],
      "metadata": {
        "colab": {
          "base_uri": "https://localhost:8080/"
        },
        "id": "yuJQdfrvUDT-",
        "outputId": "bdac3f2c-8381-4a5b-bfa8-6c3fd12a4b0e"
      },
      "execution_count": null,
      "outputs": [
        {
          "output_type": "execute_result",
          "data": {
            "text/plain": [
              "Index(['IP_ Address', 'Duration', 'Finished', 'Response_ID',\n",
              "       'Location_Latitude', 'Location_Longitude', 'Colours_Painting1',\n",
              "       'Colours_Painting2', 'Colours_Painting3', 'Colours_Painting4',\n",
              "       'Colours_Painting5', 'Colours_Painting6', 'Colours_Painting7',\n",
              "       'Colours_Painting8', 'Colours_Painting9', 'Colours_Painting10',\n",
              "       'Brushstrokes_Painting1', 'Brushstrokes_Painting2',\n",
              "       'Brushstrokes_Painting3', 'Brushstrokes_Painting4',\n",
              "       'Brushstrokes_Painting5', 'Brushstrokes_Painting6',\n",
              "       'Brushstrokes_Painting7', 'Brushstrokes_Painting8',\n",
              "       'Brushstrokes_Painting9', 'Brushstrokes_Painting10',\n",
              "       'Structures_Painting1', 'Structures_Painting2', 'Structures_Painting3',\n",
              "       'Structures_Painting4', 'Structures_Painting5', 'Structures_Painting6',\n",
              "       'Structures_Painting7', 'Structures_Painting8', 'Structures_Painting9',\n",
              "       'Structures_Painting10', 'Details_Painting1', 'Details_Painting2',\n",
              "       'Details_Painting3', 'Details_Painting4', 'Details_Painting5',\n",
              "       'Details_Painting6', 'Details_Painting7', 'Details_Painting8',\n",
              "       'Details_Painting9', 'Details_Painting10', 'Identification_Colours',\n",
              "       'Identification_Brushstrokes', 'Identification_Structures',\n",
              "       'Identification_Details', 'Monthly_Art_Events',\n",
              "       'Monthly_Hours_Digital_Arts', 'Artistic_Specialty_Self_Rating',\n",
              "       'Prolific_ID', 'Condition', 'Identification_Painting1_Combined',\n",
              "       'Identification_Painting2_Combined',\n",
              "       'Identification_Painting3_Combined',\n",
              "       'Identification_Painting4_Combined',\n",
              "       'Identification_Painting5_Combined',\n",
              "       'Identification_Painting6_Combined',\n",
              "       'Identification_Painting7_Combined',\n",
              "       'Identification_Painting8_Combined',\n",
              "       'Identification_Painting9_Combined',\n",
              "       'Identification_Painting10_Combined'],\n",
              "      dtype='object')"
            ]
          },
          "metadata": {},
          "execution_count": 10
        }
      ]
    },
    {
      "cell_type": "code",
      "source": [
        "# Show some row of the cleaned dataframe\n",
        "# Perform manual random check upon rows with the original excel file\n",
        "# To make sure that the data cleanings are performed correctly\n",
        "# Refer to the external resource found at here\n",
        "# https://stackoverflow.com/questions/11707586/how-do-i-expand-the-output-display-to-see-more-columns-of-a-pandas-dataframe\n",
        "pd.set_option('display.max_rows', 500)\n",
        "pd.set_option('display.max_columns', 500)\n",
        "df_cleaned.iloc[149]"
      ],
      "metadata": {
        "id": "RiqxuPg2UDWi"
      },
      "execution_count": null,
      "outputs": []
    },
    {
      "cell_type": "markdown",
      "source": [
        "## New Columns Generation"
      ],
      "metadata": {
        "id": "RJHY6qTJYgu4"
      }
    },
    {
      "cell_type": "code",
      "source": [
        "# Functions used to generate new columns to indicate\n",
        "# Whether the identification of each participant\n",
        "# Of each painting's producer is correct\n",
        "# Refer to external resource found at here\n",
        "# https://saturncloud.io/blog/how-to-create-a-new-column-based-on-the-value-of-another-column-in-pandas/#:~:text=Once%20we%20have%20had%20our,and%20return%20a%20new%20DataFrame.\n",
        "\n",
        "# Painting 1 is human produced\n",
        "# Link to painting WikiArt page:\n",
        "# https://www.wikiart.org/en/albert-dubois-pillet/bouquet-de-roses-dans-un-vase-1885\n",
        "def painting1_correctness(identification):\n",
        "  if identification == 'Human-produced':\n",
        "    return 1\n",
        "  else:\n",
        "    return 0"
      ],
      "metadata": {
        "id": "vb8JElC8YjqR"
      },
      "execution_count": null,
      "outputs": []
    },
    {
      "cell_type": "code",
      "source": [
        "# Painting 2 is human produced\n",
        "# Link to painting WikiArt page:\n",
        "# https://www.wikiart.org/en/paul-cezanne/the-oilmill-1871\n",
        "def painting2_correctness(identification):\n",
        "  if identification == 'Human-produced':\n",
        "    return 1\n",
        "  else:\n",
        "    return 0"
      ],
      "metadata": {
        "id": "FHQ8KxLMYvzE"
      },
      "execution_count": null,
      "outputs": []
    },
    {
      "cell_type": "code",
      "source": [
        "# Painting 3 is AI produced\n",
        "def painting3_correctness(identification):\n",
        "  if identification == 'AI-produced':\n",
        "    return 1\n",
        "  else:\n",
        "    return 0"
      ],
      "metadata": {
        "id": "WVkpS0eKYv1B"
      },
      "execution_count": null,
      "outputs": []
    },
    {
      "cell_type": "code",
      "source": [
        "# Painting 4 is human produced\n",
        "# Link to painting WikiArt page:\n",
        "# https://www.wikiart.org/en/juan-gris/still-life-with-oil-lamp-1912\n",
        "def painting4_correctness(identification):\n",
        "  if identification == 'Human-produced':\n",
        "    return 1\n",
        "  else:\n",
        "    return 0"
      ],
      "metadata": {
        "id": "Qs1B-6LFYv2w"
      },
      "execution_count": null,
      "outputs": []
    },
    {
      "cell_type": "code",
      "source": [
        "# Painting 5 is AI produced\n",
        "def painting5_correctness(identification):\n",
        "  if identification == 'AI-produced':\n",
        "    return 1\n",
        "  else:\n",
        "    return 0"
      ],
      "metadata": {
        "id": "QpD-rbbeYv4w"
      },
      "execution_count": null,
      "outputs": []
    },
    {
      "cell_type": "code",
      "source": [
        "# Painting 6 is AI produced\n",
        "def painting6_correctness(identification):\n",
        "  if identification == 'AI-produced':\n",
        "    return 1\n",
        "  else:\n",
        "    return 0"
      ],
      "metadata": {
        "id": "KbCPvwIAYv5_"
      },
      "execution_count": null,
      "outputs": []
    },
    {
      "cell_type": "code",
      "source": [
        "# Painting 7 is human produced\n",
        "# Link to painting WikiArt page:\n",
        "# https://www.wikiart.org/en/auguste-toulmouche/a-classical-courtship-1853\n",
        "def painting7_correctness(identification):\n",
        "  if identification == 'Human-produced':\n",
        "    return 1\n",
        "  else:\n",
        "    return 0"
      ],
      "metadata": {
        "id": "Z7JocOk2Yv7p"
      },
      "execution_count": null,
      "outputs": []
    },
    {
      "cell_type": "code",
      "source": [
        "# Painting 8 is human produced\n",
        "# Link to painting WikiArt page:\n",
        "# https://www.wikiart.org/en/henri-edmond-cross/bathers-1\n",
        "def painting8_correctness(identification):\n",
        "  if identification == 'Human-produced':\n",
        "    return 1\n",
        "  else:\n",
        "    return 0"
      ],
      "metadata": {
        "id": "l12fHKihZSxD"
      },
      "execution_count": null,
      "outputs": []
    },
    {
      "cell_type": "code",
      "source": [
        "# Painting 9 is AI produced\n",
        "def painting9_correctness(identification):\n",
        "  if identification == 'AI-produced':\n",
        "    return 1\n",
        "  else:\n",
        "    return 0"
      ],
      "metadata": {
        "id": "BcZVJZ4IZfj0"
      },
      "execution_count": null,
      "outputs": []
    },
    {
      "cell_type": "code",
      "source": [
        "# Painting 10 is AI produced\n",
        "def painting10_correctness(identification):\n",
        "  if identification == 'AI-produced':\n",
        "    return 1\n",
        "  else:\n",
        "    return 0"
      ],
      "metadata": {
        "id": "tx11v-F4Zg0T"
      },
      "execution_count": null,
      "outputs": []
    },
    {
      "cell_type": "code",
      "source": [
        "df_cleaned['Painting1_Correctness'] = df_cleaned['Identification_Painting1_Combined'].apply(painting1_correctness)\n",
        "df_cleaned['Painting2_Correctness'] = df_cleaned['Identification_Painting2_Combined'].apply(painting2_correctness)\n",
        "df_cleaned['Painting3_Correctness'] = df_cleaned['Identification_Painting3_Combined'].apply(painting3_correctness)\n",
        "df_cleaned['Painting4_Correctness'] = df_cleaned['Identification_Painting4_Combined'].apply(painting4_correctness)\n",
        "df_cleaned['Painting5_Correctness'] = df_cleaned['Identification_Painting5_Combined'].apply(painting5_correctness)\n",
        "df_cleaned['Painting6_Correctness'] = df_cleaned['Identification_Painting6_Combined'].apply(painting6_correctness)\n",
        "df_cleaned['Painting7_Correctness'] = df_cleaned['Identification_Painting7_Combined'].apply(painting7_correctness)\n",
        "df_cleaned['Painting8_Correctness'] = df_cleaned['Identification_Painting8_Combined'].apply(painting8_correctness)\n",
        "df_cleaned['Painting9_Correctness'] = df_cleaned['Identification_Painting9_Combined'].apply(painting9_correctness)\n",
        "df_cleaned['Painting10_Correctness'] = df_cleaned['Identification_Painting10_Combined'].apply(painting10_correctness)"
      ],
      "metadata": {
        "id": "yQTFT2xRZ7DB"
      },
      "execution_count": null,
      "outputs": []
    },
    {
      "cell_type": "code",
      "source": [
        "# Calculate accuracy of identification for each participant\n",
        "# Based on the identifications of 10 paintings\n",
        "# Refer to external resource found at here:\n",
        "# https://stackoverflow.com/questions/26886653/create-new-column-based-on-values-from-other-columns-apply-a-function-of-multi\n",
        "def accuracy(df_cleaned):\n",
        "  count = 0\n",
        "  if df_cleaned['Painting1_Correctness'] == 1:\n",
        "    count += 1\n",
        "  if df_cleaned['Painting2_Correctness'] == 1:\n",
        "    count += 1\n",
        "  if df_cleaned['Painting3_Correctness'] == 1:\n",
        "    count += 1\n",
        "  if df_cleaned['Painting4_Correctness'] == 1:\n",
        "    count += 1\n",
        "  if df_cleaned['Painting5_Correctness'] == 1:\n",
        "    count += 1\n",
        "  if df_cleaned['Painting6_Correctness'] == 1:\n",
        "    count += 1\n",
        "  if df_cleaned['Painting7_Correctness'] == 1:\n",
        "    count += 1\n",
        "  if df_cleaned['Painting8_Correctness'] == 1:\n",
        "    count += 1\n",
        "  if df_cleaned['Painting9_Correctness'] == 1:\n",
        "    count += 1\n",
        "  if df_cleaned['Painting10_Correctness'] == 1:\n",
        "    count += 1\n",
        "  return count/10"
      ],
      "metadata": {
        "id": "SFP_S6GdaHhe"
      },
      "execution_count": null,
      "outputs": []
    },
    {
      "cell_type": "code",
      "source": [
        "df_cleaned['Accuracy'] = df_cleaned.apply(accuracy, axis = 1)"
      ],
      "metadata": {
        "id": "2GO5ki0waNHS"
      },
      "execution_count": null,
      "outputs": []
    },
    {
      "cell_type": "markdown",
      "source": [
        "### Preprocess Data to Prepare for Training"
      ],
      "metadata": {
        "id": "AztSvevgb5TB"
      }
    },
    {
      "cell_type": "code",
      "source": [
        "# Make a copy of the dataframe after initial cleaning\n",
        "# Refer to external resource found at here: https://pandas.pydata.org/docs/reference/api/pandas.DataFrame.copy.html\n",
        "df_preprocessed = df_cleaned.copy()"
      ],
      "metadata": {
        "id": "Q8KaZEeOb1Wp"
      },
      "execution_count": null,
      "outputs": []
    },
    {
      "cell_type": "code",
      "source": [
        "# Convert participant identification information from string to integer\n",
        "# Human-produced: 0\n",
        "# AI-produced: 1\n",
        "# Refer to external resourced found at here:\n",
        "# https://stackoverflow.com/questions/31790287/convert-pandas-dataframe-column-from-string-to-int-based-on-conditional\n",
        "df_preprocessed['Identification_Painting1'] = np.where(df_preprocessed['Identification_Painting1_Combined'] == 'Human-produced', 0, 1)\n",
        "df_preprocessed['Identification_Painting2'] = np.where(df_preprocessed['Identification_Painting2_Combined'] == 'Human-produced', 0, 1)\n",
        "df_preprocessed['Identification_Painting3'] = np.where(df_preprocessed['Identification_Painting3_Combined'] == 'Human-produced', 0, 1)\n",
        "df_preprocessed['Identification_Painting4'] = np.where(df_preprocessed['Identification_Painting4_Combined'] == 'Human-produced', 0, 1)\n",
        "df_preprocessed['Identification_Painting5'] = np.where(df_preprocessed['Identification_Painting5_Combined'] == 'Human-produced', 0, 1)\n",
        "df_preprocessed['Identification_Painting6'] = np.where(df_preprocessed['Identification_Painting6_Combined'] == 'Human-produced', 0, 1)\n",
        "df_preprocessed['Identification_Painting7'] = np.where(df_preprocessed['Identification_Painting7_Combined'] == 'Human-produced', 0, 1)\n",
        "df_preprocessed['Identification_Painting8'] = np.where(df_preprocessed['Identification_Painting8_Combined'] == 'Human-produced', 0, 1)\n",
        "df_preprocessed['Identification_Painting9'] = np.where(df_preprocessed['Identification_Painting9_Combined'] == 'Human-produced', 0, 1)\n",
        "df_preprocessed['Identification_Painting10'] = np.where(df_preprocessed['Identification_Painting10_Combined'] == 'Human-produced', 0, 1)"
      ],
      "metadata": {
        "id": "bF0biW00cI1K"
      },
      "execution_count": null,
      "outputs": []
    },
    {
      "cell_type": "code",
      "source": [
        "# Find unique values of columns\n",
        "# Refer to external resource found at here:\n",
        "# https://www.statology.org/pandas-unique-values-in-column/\n",
        "df_preprocessed.Monthly_Art_Events.unique()"
      ],
      "metadata": {
        "colab": {
          "base_uri": "https://localhost:8080/"
        },
        "id": "UA1pnd03cats",
        "outputId": "a96b98c8-ccc9-4960-e8d9-252379acf5ff"
      },
      "execution_count": null,
      "outputs": [
        {
          "output_type": "execute_result",
          "data": {
            "text/plain": [
              "array(['1 time', '0 time', '2 times', 'More than 4 times'], dtype=object)"
            ]
          },
          "metadata": {},
          "execution_count": 27
        }
      ]
    },
    {
      "cell_type": "code",
      "source": [
        "# Convert participant monthly attendance of art events from string to integer\n",
        "def monthly_art_events(df_preprocessed):\n",
        "  if df_preprocessed['Monthly_Art_Events'] == '0 time':\n",
        "    return 0\n",
        "  if df_preprocessed['Monthly_Art_Events'] == '1 time':\n",
        "    return 1\n",
        "  if df_preprocessed['Monthly_Art_Events'] == '2 times':\n",
        "    return 2\n",
        "  if df_preprocessed['Monthly_Art_Events'] == 'More than 4 times':\n",
        "    return 4\n",
        "\n",
        "df_preprocessed['Monthly_Art_Events'] = df_preprocessed.apply(monthly_art_events, axis = 1)"
      ],
      "metadata": {
        "id": "eUyeTa8Qcax7"
      },
      "execution_count": null,
      "outputs": []
    },
    {
      "cell_type": "code",
      "source": [
        "df_preprocessed['Monthly_Art_Events'].value_counts()"
      ],
      "metadata": {
        "colab": {
          "base_uri": "https://localhost:8080/"
        },
        "id": "aaO5nrJBhvwx",
        "outputId": "21402131-4a91-402e-ad09-5d704fa3f337"
      },
      "execution_count": null,
      "outputs": [
        {
          "output_type": "execute_result",
          "data": {
            "text/plain": [
              "0    73\n",
              "1    65\n",
              "2    11\n",
              "4     1\n",
              "Name: Monthly_Art_Events, dtype: int64"
            ]
          },
          "metadata": {},
          "execution_count": 53
        }
      ]
    },
    {
      "cell_type": "code",
      "source": [
        "df_preprocessed['Monthly_Art_Events'].describe(percentiles=[.25, .5, .75, 1])"
      ],
      "metadata": {
        "colab": {
          "base_uri": "https://localhost:8080/"
        },
        "id": "TGl6wnB7iWVo",
        "outputId": "f6c0c965-d5ed-4210-e5e6-64b8fc69a8dc"
      },
      "execution_count": null,
      "outputs": [
        {
          "output_type": "execute_result",
          "data": {
            "text/plain": [
              "count    150.000000\n",
              "mean       0.606667\n",
              "std        0.684406\n",
              "min        0.000000\n",
              "25%        0.000000\n",
              "50%        1.000000\n",
              "75%        1.000000\n",
              "100%       4.000000\n",
              "max        4.000000\n",
              "Name: Monthly_Art_Events, dtype: float64"
            ]
          },
          "metadata": {},
          "execution_count": 57
        }
      ]
    },
    {
      "cell_type": "code",
      "source": [
        "df_preprocessed.Monthly_Hours_Digital_Arts.unique()"
      ],
      "metadata": {
        "colab": {
          "base_uri": "https://localhost:8080/"
        },
        "id": "LhE38iRucaz8",
        "outputId": "a97aeb30-d057-4d24-8fae-9c0941acf5fa"
      },
      "execution_count": null,
      "outputs": [
        {
          "output_type": "execute_result",
          "data": {
            "text/plain": [
              "array(['None', 'Less than or equal to 1 hour',\n",
              "       'More than 2 hours and less than or equal to 3 hours',\n",
              "       'More than 1 hour and less than or equal to 2 hours',\n",
              "       'More than 3 hours and less than or equal to 4 hours',\n",
              "       'More than 4 hours'], dtype=object)"
            ]
          },
          "metadata": {},
          "execution_count": 29
        }
      ]
    },
    {
      "cell_type": "code",
      "source": [
        "# Convert participant monthly hours into learning digital arts from string to integer\n",
        "def monthly_hours_digital_arts(df_preprocessed):\n",
        "  if df_preprocessed['Monthly_Hours_Digital_Arts'] == 'None':\n",
        "    return 0\n",
        "  if df_preprocessed['Monthly_Hours_Digital_Arts'] == 'Less than or equal to 1 hour':\n",
        "    return 1\n",
        "  if df_preprocessed['Monthly_Hours_Digital_Arts'] == 'More than 2 hours and less than or equal to 3 hours':\n",
        "    return 3\n",
        "  if df_preprocessed['Monthly_Hours_Digital_Arts'] == 'More than 1 hour and less than or equal to 2 hours':\n",
        "    return 2\n",
        "  if df_preprocessed['Monthly_Hours_Digital_Arts'] == 'More than 3 hours and less than or equal to 4 hours':\n",
        "    return 4\n",
        "  if df_preprocessed['Monthly_Hours_Digital_Arts'] == 'More than 4 hours':\n",
        "    return 5\n",
        "\n",
        "df_preprocessed['Monthly_Hours_Digital_Arts'] = df_preprocessed.apply(monthly_hours_digital_arts, axis = 1)"
      ],
      "metadata": {
        "id": "E_kxhW1zcszm"
      },
      "execution_count": null,
      "outputs": []
    },
    {
      "cell_type": "code",
      "source": [
        "df_preprocessed['Monthly_Hours_Digital_Arts'].value_counts()"
      ],
      "metadata": {
        "colab": {
          "base_uri": "https://localhost:8080/"
        },
        "id": "epyIbw9Mh-Wh",
        "outputId": "9e8115bd-34b2-40fb-cba8-62e60cef96fd"
      },
      "execution_count": null,
      "outputs": [
        {
          "output_type": "execute_result",
          "data": {
            "text/plain": [
              "0    88\n",
              "1    39\n",
              "2    15\n",
              "3     6\n",
              "4     1\n",
              "5     1\n",
              "Name: Monthly_Hours_Digital_Arts, dtype: int64"
            ]
          },
          "metadata": {},
          "execution_count": 54
        }
      ]
    },
    {
      "cell_type": "code",
      "source": [
        "df_preprocessed['Monthly_Hours_Digital_Arts'].describe(percentiles=[.25, .5, .75, 1])"
      ],
      "metadata": {
        "colab": {
          "base_uri": "https://localhost:8080/"
        },
        "id": "QIunCjSMiBvp",
        "outputId": "be8f680b-8f0f-4624-d6d9-939092c386ee"
      },
      "execution_count": null,
      "outputs": [
        {
          "output_type": "execute_result",
          "data": {
            "text/plain": [
              "count    150.00000\n",
              "mean       0.64000\n",
              "std        0.94322\n",
              "min        0.00000\n",
              "25%        0.00000\n",
              "50%        0.00000\n",
              "75%        1.00000\n",
              "100%       5.00000\n",
              "max        5.00000\n",
              "Name: Monthly_Hours_Digital_Arts, dtype: float64"
            ]
          },
          "metadata": {},
          "execution_count": 56
        }
      ]
    },
    {
      "cell_type": "code",
      "source": [
        "df_preprocessed['Artistic_Specialty_Self_Rating'].unique()"
      ],
      "metadata": {
        "colab": {
          "base_uri": "https://localhost:8080/"
        },
        "id": "TgNLaYgZioWH",
        "outputId": "2ad823c3-e1ca-49ce-c561-c3a6b24c52c7"
      },
      "execution_count": null,
      "outputs": [
        {
          "output_type": "execute_result",
          "data": {
            "text/plain": [
              "array([1, 2, 3, 4, 7, 5, 0, 6, 8])"
            ]
          },
          "metadata": {},
          "execution_count": 58
        }
      ]
    },
    {
      "cell_type": "code",
      "source": [
        "df_preprocessed['Artistic_Specialty_Self_Rating'].value_counts()"
      ],
      "metadata": {
        "colab": {
          "base_uri": "https://localhost:8080/"
        },
        "id": "2JGUs-3zitCB",
        "outputId": "92a2d2b9-1349-4b72-87fb-9a7733d655cc"
      },
      "execution_count": null,
      "outputs": [
        {
          "output_type": "execute_result",
          "data": {
            "text/plain": [
              "2    33\n",
              "1    31\n",
              "3    27\n",
              "4    16\n",
              "5    13\n",
              "0    13\n",
              "6    11\n",
              "7     5\n",
              "8     1\n",
              "Name: Artistic_Specialty_Self_Rating, dtype: int64"
            ]
          },
          "metadata": {},
          "execution_count": 59
        }
      ]
    },
    {
      "cell_type": "code",
      "source": [
        "df_preprocessed['Artistic_Specialty_Self_Rating'].describe(percentiles=[.25, .5, .75, 1])"
      ],
      "metadata": {
        "id": "G8uAB6ZEiy1p",
        "outputId": "1e9ada0c-a766-4267-d9ec-56d90014ea2c",
        "colab": {
          "base_uri": "https://localhost:8080/"
        }
      },
      "execution_count": null,
      "outputs": [
        {
          "output_type": "execute_result",
          "data": {
            "text/plain": [
              "count    150.000000\n",
              "mean       2.773333\n",
              "std        1.900712\n",
              "min        0.000000\n",
              "25%        1.000000\n",
              "50%        2.000000\n",
              "75%        4.000000\n",
              "100%       8.000000\n",
              "max        8.000000\n",
              "Name: Artistic_Specialty_Self_Rating, dtype: float64"
            ]
          },
          "metadata": {},
          "execution_count": 60
        }
      ]
    },
    {
      "cell_type": "code",
      "source": [
        "# Drop more unused/unecessary columns after cleaning\n",
        "df_preprocessed = df_preprocessed.drop(columns = [\n",
        "                                                  'Finished',\n",
        "                                                  'Response_ID',\n",
        "                                                  'Location_Latitude',\n",
        "                                                  'Location_Longitude',\n",
        "                                                  'Prolific_ID',\n",
        "                                                  'Identification_Painting1_Combined',\n",
        "                                                  'Identification_Painting2_Combined',\n",
        "                                                  'Identification_Painting3_Combined',\n",
        "                                                  'Identification_Painting4_Combined',\n",
        "                                                  'Identification_Painting5_Combined',\n",
        "                                                  'Identification_Painting6_Combined',\n",
        "                                                  'Identification_Painting7_Combined',\n",
        "                                                  'Identification_Painting8_Combined',\n",
        "                                                  'Identification_Painting9_Combined',\n",
        "                                                  'Identification_Painting10_Combined'])"
      ],
      "metadata": {
        "id": "r4Qp4VNfc1VG"
      },
      "execution_count": null,
      "outputs": []
    },
    {
      "cell_type": "code",
      "source": [
        "# Check the total count of participants from\n",
        "# Each treatment group\n",
        "# Refer to external resource found at here:\n",
        "# https://pandas.pydata.org/docs/reference/api/pandas.Series.value_counts.html#\n",
        "treatment_group = df_preprocessed['Condition'].value_counts()\n",
        "print(treatment_group)"
      ],
      "metadata": {
        "colab": {
          "base_uri": "https://localhost:8080/"
        },
        "id": "LayrHE_lfstJ",
        "outputId": "00bdfdc8-ea52-4cd2-8889-47b2b8e3b4f4"
      },
      "execution_count": null,
      "outputs": [
        {
          "output_type": "stream",
          "name": "stdout",
          "text": [
            "Control        52\n",
            "Treatment 2    50\n",
            "Treatment 1    48\n",
            "Name: Condition, dtype: int64\n"
          ]
        }
      ]
    },
    {
      "cell_type": "code",
      "source": [
        "# Perform One-Hot-Encoding on Survey conditions\n",
        "# Refer to external resource found at here:\n",
        "# https://www.geeksforgeeks.org/ml-one-hot-encoding-of-datasets-in-python/\n",
        "df_preprocessed_ohe = pd.get_dummies(df_preprocessed, columns = ['Condition'])"
      ],
      "metadata": {
        "id": "4UYfVYJhg0xG"
      },
      "execution_count": null,
      "outputs": []
    },
    {
      "cell_type": "code",
      "source": [
        "# Rename columns for naming consistency without blank space\n",
        "# Refer to external resource found at here:\n",
        "# https://pandas.pydata.org/docs/reference/api/pandas.DataFrame.rename.html\n",
        "df_preprocessed_ohe = df_preprocessed_ohe.rename(columns={\"Condition_Treatment 1\": \"Condition_Treatment1\", \"Condition_Treatment 2\": \"Condition_Treatment2\"})"
      ],
      "metadata": {
        "id": "9gUl2FVKg6BV"
      },
      "execution_count": null,
      "outputs": []
    },
    {
      "cell_type": "code",
      "source": [
        "df_preprocessed_ohe.iloc[17]"
      ],
      "metadata": {
        "id": "WcmcISgZhAAc"
      },
      "execution_count": null,
      "outputs": []
    },
    {
      "cell_type": "code",
      "source": [
        "df_preprocessed_ohe.Accuracy.unique()"
      ],
      "metadata": {
        "colab": {
          "base_uri": "https://localhost:8080/"
        },
        "id": "o59sTBEng-n8",
        "outputId": "88b17fae-02c5-4cbd-e2f3-46804e2e6d9d"
      },
      "execution_count": null,
      "outputs": [
        {
          "output_type": "execute_result",
          "data": {
            "text/plain": [
              "array([0.8, 0.1, 0.5, 0.7, 0.6, 0.4, 0.3, 0.2, 0. , 1. ])"
            ]
          },
          "metadata": {},
          "execution_count": 36
        }
      ]
    },
    {
      "cell_type": "code",
      "source": [
        "accuracy_dis = df_preprocessed_ohe['Accuracy'].value_counts()\n",
        "print(accuracy_dis)"
      ],
      "metadata": {
        "colab": {
          "base_uri": "https://localhost:8080/"
        },
        "id": "TfezKOu1hZEN",
        "outputId": "0e5dfb4a-6282-4e4f-9d53-b3b064b512e5"
      },
      "execution_count": null,
      "outputs": [
        {
          "output_type": "stream",
          "name": "stdout",
          "text": [
            "0.5    44\n",
            "0.4    30\n",
            "0.6    28\n",
            "0.3    23\n",
            "0.7    11\n",
            "0.8     5\n",
            "0.2     4\n",
            "0.1     3\n",
            "0.0     1\n",
            "1.0     1\n",
            "Name: Accuracy, dtype: int64\n"
          ]
        }
      ]
    },
    {
      "cell_type": "code",
      "source": [
        "accuracies = [0, 0.1, 0.2, 0.3, 0.4, 0.5, 0.6, 0.7, 0.8, 0.9, 1]\n",
        "people = [1, 3, 4, 23, 30, 44, 28, 11, 5, 0, 1]"
      ],
      "metadata": {
        "id": "YParze_aiW3K"
      },
      "execution_count": null,
      "outputs": []
    },
    {
      "cell_type": "code",
      "source": [
        "# Create a line graph from the above accuracy distribution\n",
        "# Refer to external resource found at here:\n",
        "# https://datatofish.com/line-chart-python-matplotlib/\n",
        "# https://matplotlib.org/stable/api/_as_gen/matplotlib.pyplot.plot.html\n",
        "# https://stackoverflow.com/questions/8409095/set-markers-for-individual-points-on-a-line\n",
        "# https://stackoverflow.com/questions/41925592/python-plotting-data-marker\n",
        "# https://matplotlib.org/stable/api/_as_gen/matplotlib.pyplot.text.html\n",
        "# https://stackoverflow.com/questions/12608788/changing-the-tick-frequency-on-the-x-or-y-axis\n",
        "from matplotlib import pyplot as plt\n",
        "import matplotlib.ticker as ticker\n",
        "fig = plt.figure(figsize = (7, 5))\n",
        "tick_spacing = 0.1\n",
        "fig, ax = plt.subplots(1,1)\n",
        "ax.xaxis.set_major_locator(ticker.MultipleLocator(tick_spacing))\n",
        "# creating the bar plot\n",
        "ax.plot(accuracies, people, marker='s', color ='green')\n",
        "plt.xlabel('Identification Accuracy')\n",
        "plt.ylabel('Number of Participants with Different Accuracies')\n",
        "plt.title('Identification Accuracy Distribution')\n",
        "plt.text(0, 2, \"1\")\n",
        "plt.text(0.1, 4, \"3\")\n",
        "plt.text(0.18, 5, \"4\")\n",
        "plt.text(0.29, 25, \"23\")\n",
        "plt.text(0.37, 31, \"30\")\n",
        "plt.text(0.51, 44, \"44\")\n",
        "plt.text(0.6, 29, \"28\")\n",
        "plt.text(0.7, 12, \"11\")\n",
        "plt.text(0.8, 6, \"5\")\n",
        "plt.text(0.9, 1, \"0\")\n",
        "plt.text(1, 2, \"1\")"
      ],
      "metadata": {
        "colab": {
          "base_uri": "https://localhost:8080/",
          "height": 506
        },
        "id": "IZcQAETokQYp",
        "outputId": "94241ce5-cefa-4358-cad1-4a9884c46791"
      },
      "execution_count": null,
      "outputs": [
        {
          "output_type": "execute_result",
          "data": {
            "text/plain": [
              "Text(1, 2, '1')"
            ]
          },
          "metadata": {},
          "execution_count": 39
        },
        {
          "output_type": "display_data",
          "data": {
            "text/plain": [
              "<Figure size 700x500 with 0 Axes>"
            ]
          },
          "metadata": {}
        },
        {
          "output_type": "display_data",
          "data": {
            "text/plain": [
              "<Figure size 640x480 with 1 Axes>"
            ],
            "image/png": "[encoded data removed]"
          },
          "metadata": {}
        }
      ]
    },
    {
      "cell_type": "code",
      "source": [
        "# Find statistics regarding the percentiles of the identification accuracy\n",
        "# Of all 150 participants\n",
        "# Refer to external resource found at here\n",
        "# https://stackoverflow.com/questions/39581893/find-percentile-stats-of-a-given-column\n",
        "df_preprocessed_ohe['Accuracy'].describe(percentiles=[.25, .5, .75, 1])"
      ],
      "metadata": {
        "colab": {
          "base_uri": "https://localhost:8080/"
        },
        "id": "2kMIbb0gprI5",
        "outputId": "968a78f8-afca-4274-e821-775c9da9e746"
      },
      "execution_count": null,
      "outputs": [
        {
          "output_type": "execute_result",
          "data": {
            "text/plain": [
              "count    150.000000\n",
              "mean       0.476667\n",
              "std        0.156478\n",
              "min        0.000000\n",
              "25%        0.400000\n",
              "50%        0.500000\n",
              "75%        0.600000\n",
              "100%       1.000000\n",
              "max        1.000000\n",
              "Name: Accuracy, dtype: float64"
            ]
          },
          "metadata": {},
          "execution_count": 40
        }
      ]
    },
    {
      "cell_type": "code",
      "source": [
        "# Create a boxplot\n",
        "# Refer to the external resource found at here:\n",
        "# https://www.geeksforgeeks.org/box-plot-in-python-using-matplotlib/\n",
        "distribution = df_preprocessed_ohe['Accuracy'].to_numpy()\n",
        "fig = plt.figure(figsize =(10, 7))\n",
        "\n",
        "# Creating plot\n",
        "plt.boxplot(distribution)\n",
        "\n",
        "# show plot\n",
        "plt.show()"
      ],
      "metadata": {
        "colab": {
          "base_uri": "https://localhost:8080/",
          "height": 599
        },
        "id": "eWQEL_jxpoRn",
        "outputId": "66af7c0b-45a4-4c85-a570-68aedd8fdd5b"
      },
      "execution_count": null,
      "outputs": [
        {
          "output_type": "display_data",
          "data": {
            "text/plain": [
              "<Figure size 1000x700 with 1 Axes>"
            ],
            "image/png": "[encoded data removed]"
          },
          "metadata": {}
        }
      ]
    },
    {
      "cell_type": "code",
      "source": [
        "# Create a boxplot with labeled numbers on different percentages/quantiles\n",
        "# Refer to the external resource found at here\n",
        "# https://stackoverflow.com/questions/61838546/how-to-label-quartiles-in-matplotlib-boxplots\n",
        "distribution = df_preprocessed_ohe['Accuracy'].to_numpy()\n",
        "fig = plt.figure(figsize =(7, 5))\n",
        "ax = fig.add_subplot(111)\n",
        "\n",
        "ax.boxplot(distribution, vert=False, manage_ticks=True)\n",
        "ax.set_xlabel('Identification Accuracy Box Plot')\n",
        "ax.set_yticklabels([''])\n",
        "\n",
        "quantiles = np.quantile(distribution, np.array([0.00, 0.25, 0.50, 0.75, 1.00]))\n",
        "ax.vlines(quantiles, [0] * quantiles.size, [1] * quantiles.size,\n",
        "          color='b', ls=':', lw=0.5, zorder=0)\n",
        "ax.set_ylim(0.5, 1.5)\n",
        "ax.set_xticks(quantiles)\n",
        "plt.show()"
      ],
      "metadata": {
        "colab": {
          "base_uri": "https://localhost:8080/",
          "height": 465
        },
        "id": "NIr3m5XgroVG",
        "outputId": "7e489755-244f-4fb8-d4c3-605bafbea2cf"
      },
      "execution_count": null,
      "outputs": [
        {
          "output_type": "display_data",
          "data": {
            "text/plain": [
              "<Figure size 700x500 with 1 Axes>"
            ],
            "image/png": "[encoded data removed]"
          },
          "metadata": {}
        }
      ]
    },
    {
      "cell_type": "code",
      "source": [
        "# Label participant identifiction accuracy\n",
        "# Based on the percentile that the accuracy falls into\n",
        "# For Decision-Tree training\n",
        "def identification_performance_label(df_preprocessed_ohe):\n",
        "  if df_preprocessed_ohe['Accuracy'] > 0.6 and df_preprocessed_ohe['Accuracy'] <= 1:\n",
        "    return 'High'\n",
        "  if df_preprocessed_ohe['Accuracy'] > 0.5 and df_preprocessed_ohe['Accuracy'] <= 0.6:\n",
        "    return 'Above_Average'\n",
        "  if df_preprocessed_ohe['Accuracy'] > 0.4 and df_preprocessed_ohe['Accuracy'] <= 0.5:\n",
        "    return 'Below_Average'\n",
        "  else:\n",
        "    return 'Low'\n",
        "\n",
        "df_preprocessed_ohe['Identification_Performance_Label'] = df_preprocessed_ohe.apply(identification_performance_label, axis = 1)"
      ],
      "metadata": {
        "id": "E56DmoA2uWY0"
      },
      "execution_count": null,
      "outputs": []
    },
    {
      "cell_type": "code",
      "source": [
        "# Count the number of participants following into each percentile\n",
        "# Refer to the external resource found at here:\n",
        "# https://note.nkmk.me/en/python-pandas-count-condition/\n",
        "print((df_preprocessed_ohe['Identification_Performance_Label'] == 'High').sum())\n",
        "print((df_preprocessed_ohe['Identification_Performance_Label'] == 'Above_Average').sum())\n",
        "print((df_preprocessed_ohe['Identification_Performance_Label'] == 'Below_Average').sum())\n",
        "print((df_preprocessed_ohe['Identification_Performance_Label'] == 'Low').sum())"
      ],
      "metadata": {
        "colab": {
          "base_uri": "https://localhost:8080/"
        },
        "id": "BvWHOdo9uda_",
        "outputId": "49cd40a3-0255-4709-c950-e944f917721a"
      },
      "execution_count": null,
      "outputs": [
        {
          "output_type": "stream",
          "name": "stdout",
          "text": [
            "17\n",
            "28\n",
            "44\n",
            "61\n"
          ]
        }
      ]
    },
    {
      "cell_type": "code",
      "source": [
        "print((df_preprocessed_ohe['Painting1_Correctness'] == 1).sum())\n",
        "print((df_preprocessed_ohe['Painting2_Correctness'] == 1).sum())\n",
        "print((df_preprocessed_ohe['Painting3_Correctness'] == 1).sum())\n",
        "print((df_preprocessed_ohe['Painting4_Correctness'] == 1).sum())\n",
        "print((df_preprocessed_ohe['Painting5_Correctness'] == 1).sum())\n",
        "print((df_preprocessed_ohe['Painting6_Correctness'] == 1).sum())\n",
        "print((df_preprocessed_ohe['Painting7_Correctness'] == 1).sum())\n",
        "print((df_preprocessed_ohe['Painting8_Correctness'] == 1).sum())\n",
        "print((df_preprocessed_ohe['Painting9_Correctness'] == 1).sum())\n",
        "print((df_preprocessed_ohe['Painting10_Correctness'] == 1).sum())"
      ],
      "metadata": {
        "colab": {
          "base_uri": "https://localhost:8080/"
        },
        "id": "tlGCNJdRvA49",
        "outputId": "5ddfef48-f2a3-4a7c-ddcb-bf20dfe799a3"
      },
      "execution_count": null,
      "outputs": [
        {
          "output_type": "stream",
          "name": "stdout",
          "text": [
            "62\n",
            "96\n",
            "56\n",
            "47\n",
            "92\n",
            "50\n",
            "97\n",
            "82\n",
            "46\n",
            "87\n"
          ]
        }
      ]
    },
    {
      "cell_type": "code",
      "source": [
        "# Create a bar chart of each painting and\n",
        "# The number of participants identified correctly\n",
        "# Refer to the external resource found at here\n",
        "# https://www.geeksforgeeks.org/bar-plot-in-matplotlib/\n",
        "import numpy as np\n",
        "import matplotlib.pyplot as plt\n",
        "\n",
        "\n",
        "# creating the dataset\n",
        "data = {'Painting 1\\n (Human)':(df_preprocessed_ohe['Painting1_Correctness'] == 1).sum(),\n",
        "        'Painting 2\\n  (Human)':(df_preprocessed_ohe['Painting2_Correctness'] == 1).sum(),\n",
        "        'Painting 3\\n (AI)':(df_preprocessed_ohe['Painting3_Correctness'] == 1).sum(),\n",
        "        'Painting 4\\n (Human)':(df_preprocessed_ohe['Painting4_Correctness'] == 1).sum(),\n",
        "        'Painting 5\\n (AI)':(df_preprocessed_ohe['Painting5_Correctness'] == 1).sum(),\n",
        "        'Painting 6\\n (AI)':(df_preprocessed_ohe['Painting6_Correctness'] == 1).sum(),\n",
        "        'Painting 7\\n (Human)':(df_preprocessed_ohe['Painting7_Correctness'] == 1).sum(),\n",
        "        'Painting 8\\n (Human)':(df_preprocessed_ohe['Painting8_Correctness'] == 1).sum(),\n",
        "        'Painting 9\\n (AI)':(df_preprocessed_ohe['Painting9_Correctness'] == 1).sum(),\n",
        "        'Painting 10\\n (AI)':(df_preprocessed_ohe['Painting10_Correctness'] == 1).sum(),}\n",
        "paintings = list(data.keys())\n",
        "people_correct = list(data.values())\n",
        "\n",
        "fig = plt.figure(figsize = (10, 7))\n",
        "\n",
        "# creating the bar plot\n",
        "plt.bar(paintings, people_correct, color ='green',\n",
        "        width = 0.4)\n",
        "plt.xlabel(\"Paintings\")\n",
        "plt.ylabel(\"Number of Participants Identified Correctly\")\n",
        "plt.title(\"Paintings and the Number of Participants Identified Each Painting Correctly (Out of 150 Participants)\")\n",
        "plt.text(-0.1, 63, \"62\")\n",
        "plt.text(0.9, 97, \"96\")\n",
        "plt.text(1.9, 57, \"56\")\n",
        "plt.text(2.9, 48, \"47\")\n",
        "plt.text(3.9, 93, \"92\")\n",
        "plt.text(4.9, 51, \"50\")\n",
        "plt.text(5.9, 98, \"97\")\n",
        "plt.text(6.9, 83, \"82\")\n",
        "plt.text(7.9, 47, \"46\")\n",
        "plt.text(8.9, 88, \"87\")\n",
        "plt.show()"
      ],
      "metadata": {
        "colab": {
          "base_uri": "https://localhost:8080/",
          "height": 657
        },
        "id": "4iMNET4Wv6DL",
        "outputId": "5010c455-749d-4316-cec2-9146572a97a1"
      },
      "execution_count": null,
      "outputs": [
        {
          "output_type": "display_data",
          "data": {
            "text/plain": [
              "<Figure size 1000x700 with 1 Axes>"
            ],
            "image/png": "[encoded data removed]"
          },
          "metadata": {}
        }
      ]
    },
    {
      "cell_type": "markdown",
      "source": [
        "### Data Normalization"
      ],
      "metadata": {
        "id": "Cx_UPOtf1cmp"
      }
    },
    {
      "cell_type": "code",
      "source": [
        "df_preprocessed_ohe.columns"
      ],
      "metadata": {
        "colab": {
          "base_uri": "https://localhost:8080/"
        },
        "id": "c11AJlft12Tr",
        "outputId": "a3c86537-c5fb-48d7-a5e5-738e93be420f"
      },
      "execution_count": null,
      "outputs": [
        {
          "output_type": "execute_result",
          "data": {
            "text/plain": [
              "Index(['IP_ Address', 'Duration', 'Colours_Painting1', 'Colours_Painting2',\n",
              "       'Colours_Painting3', 'Colours_Painting4', 'Colours_Painting5',\n",
              "       'Colours_Painting6', 'Colours_Painting7', 'Colours_Painting8',\n",
              "       'Colours_Painting9', 'Colours_Painting10', 'Brushstrokes_Painting1',\n",
              "       'Brushstrokes_Painting2', 'Brushstrokes_Painting3',\n",
              "       'Brushstrokes_Painting4', 'Brushstrokes_Painting5',\n",
              "       'Brushstrokes_Painting6', 'Brushstrokes_Painting7',\n",
              "       'Brushstrokes_Painting8', 'Brushstrokes_Painting9',\n",
              "       'Brushstrokes_Painting10', 'Structures_Painting1',\n",
              "       'Structures_Painting2', 'Structures_Painting3', 'Structures_Painting4',\n",
              "       'Structures_Painting5', 'Structures_Painting6', 'Structures_Painting7',\n",
              "       'Structures_Painting8', 'Structures_Painting9', 'Structures_Painting10',\n",
              "       'Details_Painting1', 'Details_Painting2', 'Details_Painting3',\n",
              "       'Details_Painting4', 'Details_Painting5', 'Details_Painting6',\n",
              "       'Details_Painting7', 'Details_Painting8', 'Details_Painting9',\n",
              "       'Details_Painting10', 'Identification_Colours',\n",
              "       'Identification_Brushstrokes', 'Identification_Structures',\n",
              "       'Identification_Details', 'Monthly_Art_Events',\n",
              "       'Monthly_Hours_Digital_Arts', 'Artistic_Specialty_Self_Rating',\n",
              "       'Painting1_Correctness', 'Painting2_Correctness',\n",
              "       'Painting3_Correctness', 'Painting4_Correctness',\n",
              "       'Painting5_Correctness', 'Painting6_Correctness',\n",
              "       'Painting7_Correctness', 'Painting8_Correctness',\n",
              "       'Painting9_Correctness', 'Painting10_Correctness', 'Accuracy',\n",
              "       'Identification_Painting1', 'Identification_Painting2',\n",
              "       'Identification_Painting3', 'Identification_Painting4',\n",
              "       'Identification_Painting5', 'Identification_Painting6',\n",
              "       'Identification_Painting7', 'Identification_Painting8',\n",
              "       'Identification_Painting9', 'Identification_Painting10',\n",
              "       'Condition_Control', 'Condition_Treatment1', 'Condition_Treatment2',\n",
              "       'Identification_Performance_Label'],\n",
              "      dtype='object')"
            ]
          },
          "metadata": {},
          "execution_count": 48
        }
      ]
    },
    {
      "cell_type": "code",
      "source": [
        "# Make a copy of the dataframe and then perform\n",
        "# Scale/normalization\n",
        "# Refer to the external resource found at here\n",
        "# https://www.geeksforgeeks.org/data-normalization-with-pandas/\n",
        "df_scaled = df_preprocessed_ohe.copy()"
      ],
      "metadata": {
        "id": "tgOq-IEc28J2"
      },
      "execution_count": null,
      "outputs": []
    },
    {
      "cell_type": "code",
      "source": [
        "scaled_columns = ['Colours_Painting1',\n",
        "                  'Colours_Painting2',\n",
        "                  'Colours_Painting3',\n",
        "                  'Colours_Painting4',\n",
        "                  'Colours_Painting5',\n",
        "                  'Colours_Painting6',\n",
        "                  'Colours_Painting7',\n",
        "                  'Colours_Painting8',\n",
        "                  'Colours_Painting9',\n",
        "                  'Colours_Painting10',\n",
        "                  'Brushstrokes_Painting1',\n",
        "                  'Brushstrokes_Painting2',\n",
        "                  'Brushstrokes_Painting3',\n",
        "                  'Brushstrokes_Painting4',\n",
        "                  'Brushstrokes_Painting5',\n",
        "                  'Brushstrokes_Painting6',\n",
        "                  'Brushstrokes_Painting7',\n",
        "                  'Brushstrokes_Painting8',\n",
        "                  'Brushstrokes_Painting9',\n",
        "                  'Brushstrokes_Painting10',\n",
        "                  'Details_Painting1', 'Details_Painting2', 'Details_Painting3',\n",
        "                  'Details_Painting4', 'Details_Painting5', 'Details_Painting6',\n",
        "                  'Details_Painting7', 'Details_Painting8', 'Details_Painting9',\n",
        "                  'Details_Painting10',\n",
        "                  'Structures_Painting1',\n",
        "                  'Structures_Painting2',\n",
        "                  'Structures_Painting3',\n",
        "                  'Structures_Painting4',\n",
        "                  'Structures_Painting5',\n",
        "                  'Structures_Painting6',\n",
        "                  'Structures_Painting7',\n",
        "                  'Structures_Painting8',\n",
        "                  'Structures_Painting9',\n",
        "                  'Structures_Painting10',\n",
        "                  'Identification_Colours',\n",
        "                  'Identification_Brushstrokes',\n",
        "                  'Identification_Structures',\n",
        "                  'Identification_Details', 'Monthly_Art_Events',\n",
        "                  'Monthly_Hours_Digital_Arts', 'Artistic_Specialty_Self_Rating',\n",
        "                  'Duration']\n",
        "# apply normalization techniques\n",
        "for column in scaled_columns:\n",
        "    df_scaled[column] = (df_scaled[column] - df_scaled[column].min()) / (df_scaled[column].max() - df_scaled[column].min())"
      ],
      "metadata": {
        "id": "vdw_nAIL1d-H"
      },
      "execution_count": null,
      "outputs": []
    },
    {
      "cell_type": "code",
      "source": [
        "# Save the cleaned and preprocessed dataframe as a local csv file\n",
        "# Refer to the external resource found at here\n",
        "# https://stackoverflow.com/questions/53898836/export-dataframe-as-csv-file-from-google-colab-to-google-drive\n",
        "from google.colab import drive\n",
        "drive.mount('/drive')"
      ],
      "metadata": {
        "colab": {
          "base_uri": "https://localhost:8080/"
        },
        "id": "CbjJ3okb5kMh",
        "outputId": "63c44814-82db-45b7-e895-4357df8041f1"
      },
      "execution_count": null,
      "outputs": [
        {
          "output_type": "stream",
          "name": "stdout",
          "text": [
            "Mounted at /drive\n"
          ]
        }
      ]
    },
    {
      "cell_type": "code",
      "source": [
        "df_scaled.to_csv('/content/survey_cleaned.csv')"
      ],
      "metadata": {
        "id": "6iaHtJHD5pAS"
      },
      "execution_count": null,
      "outputs": []
    }
  ]
}